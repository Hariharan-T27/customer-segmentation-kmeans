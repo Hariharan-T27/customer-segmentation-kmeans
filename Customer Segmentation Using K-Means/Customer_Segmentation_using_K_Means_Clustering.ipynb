{
  "nbformat": 4,
  "nbformat_minor": 0,
  "metadata": {
    "colab": {
      "provenance": []
    },
    "kernelspec": {
      "name": "python3",
      "display_name": "Python 3"
    },
    "language_info": {
      "name": "python"
    }
  },
  "cells": [
    {
      "cell_type": "markdown",
      "source": [
        "Import the Dpendencies"
      ],
      "metadata": {
        "id": "GD09ork1X_hP"
      }
    },
    {
      "cell_type": "code",
      "execution_count": 48,
      "metadata": {
        "id": "pEzRmFDJXuIH"
      },
      "outputs": [],
      "source": [
        "import numpy as np\n",
        "import pandas as pd\n",
        "import matplotlib.pyplot as plt\n",
        "import seaborn as sns\n",
        "from sklearn.cluster import KMeans"
      ]
    },
    {
      "cell_type": "markdown",
      "source": [
        "Data collection and analysis"
      ],
      "metadata": {
        "id": "0AARS9NQYeQc"
      }
    },
    {
      "cell_type": "code",
      "source": [
        "# loading the data from csv file to a pandas dataframe\n",
        "customer_data = pd.read_csv('customer data.csv')"
      ],
      "metadata": {
        "id": "icUVmctMYb33"
      },
      "execution_count": 49,
      "outputs": []
    },
    {
      "cell_type": "code",
      "source": [
        "# first five rowa in the dataframe\n",
        "customer_data.head(5)"
      ],
      "metadata": {
        "colab": {
          "base_uri": "https://localhost:8080/",
          "height": 206
        },
        "id": "JFrUZZlJaCgp",
        "outputId": "6b57922a-1f5a-4a8a-db2b-1a0f66f3fde4"
      },
      "execution_count": 50,
      "outputs": [
        {
          "output_type": "execute_result",
          "data": {
            "text/plain": [
              "   CustomerID  Age  Annual Income (k$)  Spending Score (1-100)\n",
              "0           1   34                  97                      81\n",
              "1           2   50                 120                      22\n",
              "2           3   23                  65                      56\n",
              "3           4   41                 110                      43\n",
              "4           5   29                  78                      89"
            ],
            "text/html": [
              "\n",
              "  <div id=\"df-cd625405-9947-45b6-a3fb-4dc09aca5573\" class=\"colab-df-container\">\n",
              "    <div>\n",
              "<style scoped>\n",
              "    .dataframe tbody tr th:only-of-type {\n",
              "        vertical-align: middle;\n",
              "    }\n",
              "\n",
              "    .dataframe tbody tr th {\n",
              "        vertical-align: top;\n",
              "    }\n",
              "\n",
              "    .dataframe thead th {\n",
              "        text-align: right;\n",
              "    }\n",
              "</style>\n",
              "<table border=\"1\" class=\"dataframe\">\n",
              "  <thead>\n",
              "    <tr style=\"text-align: right;\">\n",
              "      <th></th>\n",
              "      <th>CustomerID</th>\n",
              "      <th>Age</th>\n",
              "      <th>Annual Income (k$)</th>\n",
              "      <th>Spending Score (1-100)</th>\n",
              "    </tr>\n",
              "  </thead>\n",
              "  <tbody>\n",
              "    <tr>\n",
              "      <th>0</th>\n",
              "      <td>1</td>\n",
              "      <td>34</td>\n",
              "      <td>97</td>\n",
              "      <td>81</td>\n",
              "    </tr>\n",
              "    <tr>\n",
              "      <th>1</th>\n",
              "      <td>2</td>\n",
              "      <td>50</td>\n",
              "      <td>120</td>\n",
              "      <td>22</td>\n",
              "    </tr>\n",
              "    <tr>\n",
              "      <th>2</th>\n",
              "      <td>3</td>\n",
              "      <td>23</td>\n",
              "      <td>65</td>\n",
              "      <td>56</td>\n",
              "    </tr>\n",
              "    <tr>\n",
              "      <th>3</th>\n",
              "      <td>4</td>\n",
              "      <td>41</td>\n",
              "      <td>110</td>\n",
              "      <td>43</td>\n",
              "    </tr>\n",
              "    <tr>\n",
              "      <th>4</th>\n",
              "      <td>5</td>\n",
              "      <td>29</td>\n",
              "      <td>78</td>\n",
              "      <td>89</td>\n",
              "    </tr>\n",
              "  </tbody>\n",
              "</table>\n",
              "</div>\n",
              "    <div class=\"colab-df-buttons\">\n",
              "\n",
              "  <div class=\"colab-df-container\">\n",
              "    <button class=\"colab-df-convert\" onclick=\"convertToInteractive('df-cd625405-9947-45b6-a3fb-4dc09aca5573')\"\n",
              "            title=\"Convert this dataframe to an interactive table.\"\n",
              "            style=\"display:none;\">\n",
              "\n",
              "  <svg xmlns=\"http://www.w3.org/2000/svg\" height=\"24px\" viewBox=\"0 -960 960 960\">\n",
              "    <path d=\"M120-120v-720h720v720H120Zm60-500h600v-160H180v160Zm220 220h160v-160H400v160Zm0 220h160v-160H400v160ZM180-400h160v-160H180v160Zm440 0h160v-160H620v160ZM180-180h160v-160H180v160Zm440 0h160v-160H620v160Z\"/>\n",
              "  </svg>\n",
              "    </button>\n",
              "\n",
              "  <style>\n",
              "    .colab-df-container {\n",
              "      display:flex;\n",
              "      gap: 12px;\n",
              "    }\n",
              "\n",
              "    .colab-df-convert {\n",
              "      background-color: #E8F0FE;\n",
              "      border: none;\n",
              "      border-radius: 50%;\n",
              "      cursor: pointer;\n",
              "      display: none;\n",
              "      fill: #1967D2;\n",
              "      height: 32px;\n",
              "      padding: 0 0 0 0;\n",
              "      width: 32px;\n",
              "    }\n",
              "\n",
              "    .colab-df-convert:hover {\n",
              "      background-color: #E2EBFA;\n",
              "      box-shadow: 0px 1px 2px rgba(60, 64, 67, 0.3), 0px 1px 3px 1px rgba(60, 64, 67, 0.15);\n",
              "      fill: #174EA6;\n",
              "    }\n",
              "\n",
              "    .colab-df-buttons div {\n",
              "      margin-bottom: 4px;\n",
              "    }\n",
              "\n",
              "    [theme=dark] .colab-df-convert {\n",
              "      background-color: #3B4455;\n",
              "      fill: #D2E3FC;\n",
              "    }\n",
              "\n",
              "    [theme=dark] .colab-df-convert:hover {\n",
              "      background-color: #434B5C;\n",
              "      box-shadow: 0px 1px 3px 1px rgba(0, 0, 0, 0.15);\n",
              "      filter: drop-shadow(0px 1px 2px rgba(0, 0, 0, 0.3));\n",
              "      fill: #FFFFFF;\n",
              "    }\n",
              "  </style>\n",
              "\n",
              "    <script>\n",
              "      const buttonEl =\n",
              "        document.querySelector('#df-cd625405-9947-45b6-a3fb-4dc09aca5573 button.colab-df-convert');\n",
              "      buttonEl.style.display =\n",
              "        google.colab.kernel.accessAllowed ? 'block' : 'none';\n",
              "\n",
              "      async function convertToInteractive(key) {\n",
              "        const element = document.querySelector('#df-cd625405-9947-45b6-a3fb-4dc09aca5573');\n",
              "        const dataTable =\n",
              "          await google.colab.kernel.invokeFunction('convertToInteractive',\n",
              "                                                    [key], {});\n",
              "        if (!dataTable) return;\n",
              "\n",
              "        const docLinkHtml = 'Like what you see? Visit the ' +\n",
              "          '<a target=\"_blank\" href=https://colab.research.google.com/notebooks/data_table.ipynb>data table notebook</a>'\n",
              "          + ' to learn more about interactive tables.';\n",
              "        element.innerHTML = '';\n",
              "        dataTable['output_type'] = 'display_data';\n",
              "        await google.colab.output.renderOutput(dataTable, element);\n",
              "        const docLink = document.createElement('div');\n",
              "        docLink.innerHTML = docLinkHtml;\n",
              "        element.appendChild(docLink);\n",
              "      }\n",
              "    </script>\n",
              "  </div>\n",
              "\n",
              "\n",
              "    <div id=\"df-105d9009-f689-4888-82df-6a0a67b60a2f\">\n",
              "      <button class=\"colab-df-quickchart\" onclick=\"quickchart('df-105d9009-f689-4888-82df-6a0a67b60a2f')\"\n",
              "                title=\"Suggest charts\"\n",
              "                style=\"display:none;\">\n",
              "\n",
              "<svg xmlns=\"http://www.w3.org/2000/svg\" height=\"24px\"viewBox=\"0 0 24 24\"\n",
              "     width=\"24px\">\n",
              "    <g>\n",
              "        <path d=\"M19 3H5c-1.1 0-2 .9-2 2v14c0 1.1.9 2 2 2h14c1.1 0 2-.9 2-2V5c0-1.1-.9-2-2-2zM9 17H7v-7h2v7zm4 0h-2V7h2v10zm4 0h-2v-4h2v4z\"/>\n",
              "    </g>\n",
              "</svg>\n",
              "      </button>\n",
              "\n",
              "<style>\n",
              "  .colab-df-quickchart {\n",
              "      --bg-color: #E8F0FE;\n",
              "      --fill-color: #1967D2;\n",
              "      --hover-bg-color: #E2EBFA;\n",
              "      --hover-fill-color: #174EA6;\n",
              "      --disabled-fill-color: #AAA;\n",
              "      --disabled-bg-color: #DDD;\n",
              "  }\n",
              "\n",
              "  [theme=dark] .colab-df-quickchart {\n",
              "      --bg-color: #3B4455;\n",
              "      --fill-color: #D2E3FC;\n",
              "      --hover-bg-color: #434B5C;\n",
              "      --hover-fill-color: #FFFFFF;\n",
              "      --disabled-bg-color: #3B4455;\n",
              "      --disabled-fill-color: #666;\n",
              "  }\n",
              "\n",
              "  .colab-df-quickchart {\n",
              "    background-color: var(--bg-color);\n",
              "    border: none;\n",
              "    border-radius: 50%;\n",
              "    cursor: pointer;\n",
              "    display: none;\n",
              "    fill: var(--fill-color);\n",
              "    height: 32px;\n",
              "    padding: 0;\n",
              "    width: 32px;\n",
              "  }\n",
              "\n",
              "  .colab-df-quickchart:hover {\n",
              "    background-color: var(--hover-bg-color);\n",
              "    box-shadow: 0 1px 2px rgba(60, 64, 67, 0.3), 0 1px 3px 1px rgba(60, 64, 67, 0.15);\n",
              "    fill: var(--button-hover-fill-color);\n",
              "  }\n",
              "\n",
              "  .colab-df-quickchart-complete:disabled,\n",
              "  .colab-df-quickchart-complete:disabled:hover {\n",
              "    background-color: var(--disabled-bg-color);\n",
              "    fill: var(--disabled-fill-color);\n",
              "    box-shadow: none;\n",
              "  }\n",
              "\n",
              "  .colab-df-spinner {\n",
              "    border: 2px solid var(--fill-color);\n",
              "    border-color: transparent;\n",
              "    border-bottom-color: var(--fill-color);\n",
              "    animation:\n",
              "      spin 1s steps(1) infinite;\n",
              "  }\n",
              "\n",
              "  @keyframes spin {\n",
              "    0% {\n",
              "      border-color: transparent;\n",
              "      border-bottom-color: var(--fill-color);\n",
              "      border-left-color: var(--fill-color);\n",
              "    }\n",
              "    20% {\n",
              "      border-color: transparent;\n",
              "      border-left-color: var(--fill-color);\n",
              "      border-top-color: var(--fill-color);\n",
              "    }\n",
              "    30% {\n",
              "      border-color: transparent;\n",
              "      border-left-color: var(--fill-color);\n",
              "      border-top-color: var(--fill-color);\n",
              "      border-right-color: var(--fill-color);\n",
              "    }\n",
              "    40% {\n",
              "      border-color: transparent;\n",
              "      border-right-color: var(--fill-color);\n",
              "      border-top-color: var(--fill-color);\n",
              "    }\n",
              "    60% {\n",
              "      border-color: transparent;\n",
              "      border-right-color: var(--fill-color);\n",
              "    }\n",
              "    80% {\n",
              "      border-color: transparent;\n",
              "      border-right-color: var(--fill-color);\n",
              "      border-bottom-color: var(--fill-color);\n",
              "    }\n",
              "    90% {\n",
              "      border-color: transparent;\n",
              "      border-bottom-color: var(--fill-color);\n",
              "    }\n",
              "  }\n",
              "</style>\n",
              "\n",
              "      <script>\n",
              "        async function quickchart(key) {\n",
              "          const quickchartButtonEl =\n",
              "            document.querySelector('#' + key + ' button');\n",
              "          quickchartButtonEl.disabled = true;  // To prevent multiple clicks.\n",
              "          quickchartButtonEl.classList.add('colab-df-spinner');\n",
              "          try {\n",
              "            const charts = await google.colab.kernel.invokeFunction(\n",
              "                'suggestCharts', [key], {});\n",
              "          } catch (error) {\n",
              "            console.error('Error during call to suggestCharts:', error);\n",
              "          }\n",
              "          quickchartButtonEl.classList.remove('colab-df-spinner');\n",
              "          quickchartButtonEl.classList.add('colab-df-quickchart-complete');\n",
              "        }\n",
              "        (() => {\n",
              "          let quickchartButtonEl =\n",
              "            document.querySelector('#df-105d9009-f689-4888-82df-6a0a67b60a2f button');\n",
              "          quickchartButtonEl.style.display =\n",
              "            google.colab.kernel.accessAllowed ? 'block' : 'none';\n",
              "        })();\n",
              "      </script>\n",
              "    </div>\n",
              "\n",
              "    </div>\n",
              "  </div>\n"
            ],
            "application/vnd.google.colaboratory.intrinsic+json": {
              "type": "dataframe",
              "variable_name": "customer_data",
              "summary": "{\n  \"name\": \"customer_data\",\n  \"rows\": 300,\n  \"fields\": [\n    {\n      \"column\": \"CustomerID\",\n      \"properties\": {\n        \"dtype\": \"number\",\n        \"std\": 86,\n        \"min\": 1,\n        \"max\": 300,\n        \"num_unique_values\": 300,\n        \"samples\": [\n          204,\n          267,\n          153\n        ],\n        \"semantic_type\": \"\",\n        \"description\": \"\"\n      }\n    },\n    {\n      \"column\": \"Age\",\n      \"properties\": {\n        \"dtype\": \"number\",\n        \"std\": 10,\n        \"min\": 20,\n        \"max\": 61,\n        \"num_unique_values\": 42,\n        \"samples\": [\n          44,\n          22,\n          28\n        ],\n        \"semantic_type\": \"\",\n        \"description\": \"\"\n      }\n    },\n    {\n      \"column\": \"Annual Income (k$)\",\n      \"properties\": {\n        \"dtype\": \"number\",\n        \"std\": 20,\n        \"min\": 45,\n        \"max\": 147,\n        \"num_unique_values\": 85,\n        \"samples\": [\n          102,\n          97,\n          99\n        ],\n        \"semantic_type\": \"\",\n        \"description\": \"\"\n      }\n    },\n    {\n      \"column\": \"Spending Score (1-100)\",\n      \"properties\": {\n        \"dtype\": \"number\",\n        \"std\": 19,\n        \"min\": 22,\n        \"max\": 95,\n        \"num_unique_values\": 73,\n        \"samples\": [\n          89,\n          74,\n          87\n        ],\n        \"semantic_type\": \"\",\n        \"description\": \"\"\n      }\n    }\n  ]\n}"
            }
          },
          "metadata": {},
          "execution_count": 50
        }
      ]
    },
    {
      "cell_type": "code",
      "source": [
        "# finding the number of rows and columns\n",
        "customer_data.shape"
      ],
      "metadata": {
        "colab": {
          "base_uri": "https://localhost:8080/"
        },
        "id": "_CNcN4Q7aOeC",
        "outputId": "b961186e-9513-47e4-cd71-854cab24f41f"
      },
      "execution_count": 51,
      "outputs": [
        {
          "output_type": "execute_result",
          "data": {
            "text/plain": [
              "(300, 4)"
            ]
          },
          "metadata": {},
          "execution_count": 51
        }
      ]
    },
    {
      "cell_type": "code",
      "source": [
        "customer_data.info()"
      ],
      "metadata": {
        "colab": {
          "base_uri": "https://localhost:8080/"
        },
        "id": "3ndU_Hwlac5q",
        "outputId": "bcb4efe9-e967-4a1e-e560-c4e1ce63a7a3"
      },
      "execution_count": 52,
      "outputs": [
        {
          "output_type": "stream",
          "name": "stdout",
          "text": [
            "<class 'pandas.core.frame.DataFrame'>\n",
            "RangeIndex: 300 entries, 0 to 299\n",
            "Data columns (total 4 columns):\n",
            " #   Column                  Non-Null Count  Dtype\n",
            "---  ------                  --------------  -----\n",
            " 0   CustomerID              300 non-null    int64\n",
            " 1   Age                     300 non-null    int64\n",
            " 2   Annual Income (k$)      300 non-null    int64\n",
            " 3   Spending Score (1-100)  300 non-null    int64\n",
            "dtypes: int64(4)\n",
            "memory usage: 9.5 KB\n"
          ]
        }
      ]
    },
    {
      "cell_type": "code",
      "source": [
        "# checking for missing values\n",
        "customer_data.isnull().sum()"
      ],
      "metadata": {
        "colab": {
          "base_uri": "https://localhost:8080/",
          "height": 209
        },
        "id": "fUgp6Nxcal3e",
        "outputId": "ff1fb167-ad9a-4797-f64d-173659c9f641"
      },
      "execution_count": 53,
      "outputs": [
        {
          "output_type": "execute_result",
          "data": {
            "text/plain": [
              "CustomerID                0\n",
              "Age                       0\n",
              "Annual Income (k$)        0\n",
              "Spending Score (1-100)    0\n",
              "dtype: int64"
            ],
            "text/html": [
              "<div>\n",
              "<style scoped>\n",
              "    .dataframe tbody tr th:only-of-type {\n",
              "        vertical-align: middle;\n",
              "    }\n",
              "\n",
              "    .dataframe tbody tr th {\n",
              "        vertical-align: top;\n",
              "    }\n",
              "\n",
              "    .dataframe thead th {\n",
              "        text-align: right;\n",
              "    }\n",
              "</style>\n",
              "<table border=\"1\" class=\"dataframe\">\n",
              "  <thead>\n",
              "    <tr style=\"text-align: right;\">\n",
              "      <th></th>\n",
              "      <th>0</th>\n",
              "    </tr>\n",
              "  </thead>\n",
              "  <tbody>\n",
              "    <tr>\n",
              "      <th>CustomerID</th>\n",
              "      <td>0</td>\n",
              "    </tr>\n",
              "    <tr>\n",
              "      <th>Age</th>\n",
              "      <td>0</td>\n",
              "    </tr>\n",
              "    <tr>\n",
              "      <th>Annual Income (k$)</th>\n",
              "      <td>0</td>\n",
              "    </tr>\n",
              "    <tr>\n",
              "      <th>Spending Score (1-100)</th>\n",
              "      <td>0</td>\n",
              "    </tr>\n",
              "  </tbody>\n",
              "</table>\n",
              "</div><br><label><b>dtype:</b> int64</label>"
            ]
          },
          "metadata": {},
          "execution_count": 53
        }
      ]
    },
    {
      "cell_type": "markdown",
      "source": [
        "chossing the annual income and spending score column"
      ],
      "metadata": {
        "id": "5aWMobH3bPWH"
      }
    },
    {
      "cell_type": "code",
      "source": [
        "X = customer_data.iloc[:,[2,3]].values"
      ],
      "metadata": {
        "id": "hprXy-qJa9sW"
      },
      "execution_count": 54,
      "outputs": []
    },
    {
      "cell_type": "code",
      "source": [
        "print(X)"
      ],
      "metadata": {
        "colab": {
          "base_uri": "https://localhost:8080/"
        },
        "collapsed": true,
        "id": "XfRUZPe7bvcC",
        "outputId": "44a8d496-075b-441b-84ee-20d974df5144"
      },
      "execution_count": 55,
      "outputs": [
        {
          "output_type": "stream",
          "name": "stdout",
          "text": [
            "[[ 97  81]\n",
            " [120  22]\n",
            " [ 65  56]\n",
            " [110  43]\n",
            " [ 78  89]\n",
            " [133  31]\n",
            " [ 54  77]\n",
            " [ 89  65]\n",
            " [140  49]\n",
            " [ 45  23]\n",
            " [134  90]\n",
            " [101  38]\n",
            " [122  64]\n",
            " [ 85  76]\n",
            " [145  58]\n",
            " [ 68  42]\n",
            " [ 96  73]\n",
            " [111  29]\n",
            " [ 72  87]\n",
            " [127  55]\n",
            " [ 57  40]\n",
            " [139  88]\n",
            " [ 66  53]\n",
            " [119  61]\n",
            " [109  75]\n",
            " [132  34]\n",
            " [ 80  84]\n",
            " [ 70  46]\n",
            " [124  68]\n",
            " [ 93  51]\n",
            " [147  78]\n",
            " [ 52  27]\n",
            " [107  63]\n",
            " [ 90  85]\n",
            " [135  39]\n",
            " [100  44]\n",
            " [142  71]\n",
            " [ 81  59]\n",
            " [116  33]\n",
            " [ 88  79]\n",
            " [130  47]\n",
            " [ 74  66]\n",
            " [138  25]\n",
            " [ 95  82]\n",
            " [121  54]\n",
            " [ 84  91]\n",
            " [137  36]\n",
            " [112  69]\n",
            " [ 77  60]\n",
            " [126  50]\n",
            " [ 69  72]\n",
            " [117  41]\n",
            " [105  83]\n",
            " [ 92  67]\n",
            " [125  35]\n",
            " [ 86  80]\n",
            " [141  48]\n",
            " [108  62]\n",
            " [ 73  90]\n",
            " [123  37]\n",
            " [ 79  55]\n",
            " [114  70]\n",
            " [ 91  39]\n",
            " [132  65]\n",
            " [ 82  86]\n",
            " [138  45]\n",
            " [ 98  57]\n",
            " [120  74]\n",
            " [ 87  28]\n",
            " [136  61]\n",
            " [ 76  92]\n",
            " [ 99  46]\n",
            " [113  63]\n",
            " [143  30]\n",
            " [ 84  77]\n",
            " [131  54]\n",
            " [ 94  68]\n",
            " [128  42]\n",
            " [106  71]\n",
            " [ 75  89]\n",
            " [139  53]\n",
            " [115  40]\n",
            " [ 88  85]\n",
            " [146  32]\n",
            " [102  59]\n",
            " [118  26]\n",
            " [ 83  93]\n",
            " [129  44]\n",
            " [100  70]\n",
            " [144  36]\n",
            " [110  62]\n",
            " [ 97  84]\n",
            " [135  47]\n",
            " [112  55]\n",
            " [ 81  79]\n",
            " [140  38]\n",
            " [122  65]\n",
            " [ 86  50]\n",
            " [137  73]\n",
            " [ 92  41]\n",
            " [126  69]\n",
            " [ 88  56]\n",
            " [141  29]\n",
            " [109  77]\n",
            " [ 95  60]\n",
            " [134  33]\n",
            " [ 83  91]\n",
            " [119  49]\n",
            " [138  64]\n",
            " [101  45]\n",
            " [127  85]\n",
            " [ 90  32]\n",
            " [136  71]\n",
            " [114  52]\n",
            " [ 99  86]\n",
            " [124  39]\n",
            " [ 89  75]\n",
            " [131  57]\n",
            " [104  28]\n",
            " [117  68]\n",
            " [ 85  90]\n",
            " [143  44]\n",
            " [111  61]\n",
            " [ 97  79]\n",
            " [139  35]\n",
            " [103  73]\n",
            " [130  46]\n",
            " [121  62]\n",
            " [ 93  82]\n",
            " [145  37]\n",
            " [108  50]\n",
            " [ 87  94]\n",
            " [132  30]\n",
            " [115  66]\n",
            " [ 96  83]\n",
            " [142  54]\n",
            " [106  41]\n",
            " [125  72]\n",
            " [ 98  58]\n",
            " [118  29]\n",
            " [133  74]\n",
            " [ 91  63]\n",
            " [120  27]\n",
            " [ 84  95]\n",
            " [129  40]\n",
            " [113  81]\n",
            " [100  68]\n",
            " [135  34]\n",
            " [110  87]\n",
            " [122  47]\n",
            " [ 94  71]\n",
            " [137  38]\n",
            " [105  59]\n",
            " [116  84]\n",
            " [ 89  42]\n",
            " [128  76]\n",
            " [102  49]\n",
            " [141  30]\n",
            " [111  92]\n",
            " [134  45]\n",
            " [ 97  69]\n",
            " [139  31]\n",
            " [123  55]\n",
            " [ 86  88]\n",
            " [144  40]\n",
            " [114  73]\n",
            " [127  37]\n",
            " [ 91  79]\n",
            " [119  52]\n",
            " [132  60]\n",
            " [108  93]\n",
            " [125  44]\n",
            " [ 84  65]\n",
            " [136  33]\n",
            " [ 98  81]\n",
            " [121  58]\n",
            " [106  28]\n",
            " [140  66]\n",
            " [112  48]\n",
            " [ 95  86]\n",
            " [129  41]\n",
            " [118  70]\n",
            " [107  35]\n",
            " [138  63]\n",
            " [100  79]\n",
            " [124  47]\n",
            " [ 89  91]\n",
            " [133  39]\n",
            " [115  62]\n",
            " [142  56]\n",
            " [103  83]\n",
            " [126  29]\n",
            " [ 92  75]\n",
            " [137  54]\n",
            " [109  46]\n",
            " [120  68]\n",
            " [ 85  90]\n",
            " [144  42]\n",
            " [ 99  77]\n",
            " [128  50]\n",
            " [113  72]\n",
            " [141  36]\n",
            " [101  64]\n",
            " [126  53]\n",
            " [ 89  86]\n",
            " [132  40]\n",
            " [117  78]\n",
            " [ 96  45]\n",
            " [135  69]\n",
            " [104  32]\n",
            " [122  74]\n",
            " [108  59]\n",
            " [140  28]\n",
            " [118  83]\n",
            " [ 92  50]\n",
            " [136  65]\n",
            " [111  37]\n",
            " [124  88]\n",
            " [ 99  42]\n",
            " [129  71]\n",
            " [ 95  60]\n",
            " [144  29]\n",
            " [106  80]\n",
            " [115  47]\n",
            " [138  54]\n",
            " [102  67]\n",
            " [127  39]\n",
            " [120  76]\n",
            " [ 90  51]\n",
            " [134  63]\n",
            " [113  84]\n",
            " [ 97  38]\n",
            " [125  70]\n",
            " [109  41]\n",
            " [137  87]\n",
            " [103  56]\n",
            " [121  34]\n",
            " [116  66]\n",
            " [100  79]\n",
            " [140  48]\n",
            " [112  59]\n",
            " [ 93  85]\n",
            " [131  35]\n",
            " [119  62]\n",
            " [ 87  91]\n",
            " [145  40]\n",
            " [105  68]\n",
            " [128  52]\n",
            " [114  77]\n",
            " [101  43]\n",
            " [139  61]\n",
            " [ 96  82]\n",
            " [123  36]\n",
            " [110  74]\n",
            " [133  49]\n",
            " [ 85  90]\n",
            " [137  30]\n",
            " [ 98  66]\n",
            " [121  45]\n",
            " [143  79]\n",
            " [108  53]\n",
            " [116  88]\n",
            " [141  37]\n",
            " [100  69]\n",
            " [124  40]\n",
            " [ 91  81]\n",
            " [132  55]\n",
            " [112  46]\n",
            " [126  93]\n",
            " [107  33]\n",
            " [ 95  75]\n",
            " [138  42]\n",
            " [104  70]\n",
            " [129  63]\n",
            " [119  29]\n",
            " [136  60]\n",
            " [ 90  85]\n",
            " [122  48]\n",
            " [114  79]\n",
            " [ 88  67]\n",
            " [127  31]\n",
            " [100  92]\n",
            " [141  50]\n",
            " [111  72]\n",
            " [123  39]\n",
            " [ 97  87]\n",
            " [130  44]\n",
            " [109  56]\n",
            " [135  64]\n",
            " [102  35]\n",
            " [117  83]\n",
            " [ 94  52]\n",
            " [143  27]\n",
            " [120  74]\n",
            " [106  59]\n",
            " [137  38]\n",
            " [115  66]\n",
            " [ 99  91]\n",
            " [128  41]\n",
            " [112  78]]\n"
          ]
        }
      ]
    },
    {
      "cell_type": "markdown",
      "source": [
        "choosing the number of clusters"
      ],
      "metadata": {
        "id": "ufmKkSlvb-BC"
      }
    },
    {
      "cell_type": "markdown",
      "source": [
        "finding correct no. of clusters\n",
        "WCSS -> Within clusters sum of squares"
      ],
      "metadata": {
        "id": "SNqCtNXTcOLe"
      }
    },
    {
      "cell_type": "code",
      "source": [
        "# finding WCSS value for different number of clusters\n",
        "\n",
        "wcss = []\n",
        "\n",
        "for i in range(1,11):\n",
        "    kmeans = KMeans(n_clusters=i, init='k-means++', random_state=42)\n",
        "    kmeans.fit(X)\n",
        "\n",
        "    wcss.append(kmeans.inertia_)"
      ],
      "metadata": {
        "id": "b5TDl0-Pbxet"
      },
      "execution_count": 56,
      "outputs": []
    },
    {
      "cell_type": "code",
      "source": [
        "# plot an elbow graph\n",
        "sns.set()\n",
        "plt.plot(range(1,11), wcss)\n",
        "plt.title('The Elbow Point Graph')\n",
        "plt.xlabel('Number of clusters')\n",
        "plt.ylabel('WCSS')\n",
        "plt.show()"
      ],
      "metadata": {
        "colab": {
          "base_uri": "https://localhost:8080/",
          "height": 480
        },
        "id": "QOokGmkkeIMc",
        "outputId": "ef2ea958-444a-41c5-8026-a6335fd9a3ec"
      },
      "execution_count": 57,
      "outputs": [
        {
          "output_type": "display_data",
          "data": {
            "text/plain": [
              "<Figure size 640x480 with 1 Axes>"
            ],
            "image/png": "[encoded data removed]"
          },
          "metadata": {}
        }
      ]
    },
    {
      "cell_type": "markdown",
      "source": [
        "Optimum number of clusters = 4 (an elbow at 2 and 4 in thr graph above, so we take elbow point 4)"
      ],
      "metadata": {
        "id": "QNNZobFge2tr"
      }
    },
    {
      "cell_type": "markdown",
      "source": [
        "Training the k-Means clustering Model"
      ],
      "metadata": {
        "id": "OgVgbxGcfI4M"
      }
    },
    {
      "cell_type": "code",
      "source": [
        "kmeans = KMeans(n_clusters=4, init='k-means++', random_state=0)\n",
        "\n",
        "# return a label for each data point based on their cluster\n",
        "Y = kmeans.fit_predict(X)\n",
        "print(Y)"
      ],
      "metadata": {
        "colab": {
          "base_uri": "https://localhost:8080/"
        },
        "id": "tgQFbfHfemhD",
        "outputId": "1511cb22-d63d-4dd5-a7b1-f47bc78e86ab"
      },
      "execution_count": 58,
      "outputs": [
        {
          "output_type": "stream",
          "name": "stdout",
          "text": [
            "[1 0 2 2 1 0 1 1 0 2 3 2 3 1 0 2 1 2 1 0 2 3 2 3 3 0 1 2 3 2 3 2 3 1 0 2 3\n",
            " 2 0 1 0 1 0 1 0 1 0 3 2 0 1 0 1 1 0 1 0 3 1 0 2 3 2 3 1 0 2 3 2 3 1 2 3 0\n",
            " 1 0 1 0 3 1 0 0 1 0 2 0 1 0 1 0 3 1 0 2 1 0 3 2 3 2 3 2 0 3 2 0 1 0 3 2 3\n",
            " 2 3 2 1 0 1 0 2 3 1 0 3 1 0 1 0 3 1 0 2 1 0 3 1 0 2 3 2 0 3 2 0 1 0 3 1 0\n",
            " 3 0 1 0 2 3 2 3 2 0 1 0 1 0 3 1 0 3 0 1 0 3 1 0 1 0 1 3 2 3 2 1 0 3 2 3 1\n",
            " 0 1 0 3 0 1 0 1 0 2 3 1 0 1 0 3 0 2 0 1 0 3 2 3 2 3 2 0 3 2 3 2 3 2 3 2 0\n",
            " 1 0 0 1 0 3 2 3 3 2 3 2 3 2 0 3 1 0 3 1 0 3 1 0 3 0 3 2 3 1 0 3 0 1 0 1 0\n",
            " 3 2 3 0 1 0 1 0 2 3 2 1 0 1 3 0 3 1 0 3 1 0 1 0 3 0 1 0 2 3 2 3 2 0 3 2 0\n",
            " 3 1 0 3]\n"
          ]
        }
      ]
    },
    {
      "cell_type": "markdown",
      "source": [
        "Visualizing al the clusters"
      ],
      "metadata": {
        "id": "BQQxs1LxglEM"
      }
    },
    {
      "cell_type": "code",
      "source": [
        "# ploting all the clusters and their centroids\n",
        "\n",
        "plt.figure(figsize=(8,8))\n",
        "plt.scatter(X[Y==0,0], X[Y==0,1], s=50, c='green', label='Cluster 1') #[Y==0,0]->0 is cluster number and 0 is first column(annual income), [Y==0,1]->0 is cluster number and 1 is second column(spending score)\n",
        "plt.scatter(X[Y==1,0], X[Y==1,1], s=50, c='yellow', label='Cluster 2') # s is the size of the dot.\n",
        "plt.scatter(X[Y==2,0], X[Y==2,1], s=50, c='blue', label='Cluster 3')\n",
        "plt.scatter(X[Y==3,0], X[Y==3,1], s=50, c='orange', label='Cluster 4')\n",
        "\n",
        "# we plot the centroids\n",
        "plt.scatter(kmeans.cluster_centers_[:,0], kmeans.cluster_centers_[:,1], s=100, c='red', label='Centroids')\n",
        "\n",
        "plt.title('Customer Groups/Clusters')\n",
        "plt.xlabel('Annual Income')\n",
        "plt.ylabel('Spending Score')\n",
        "plt.show()"
      ],
      "metadata": {
        "colab": {
          "base_uri": "https://localhost:8080/",
          "height": 727
        },
        "id": "KcLZACGWgVmA",
        "outputId": "1d336163-4336-4813-e9b7-c972d659c4b8"
      },
      "execution_count": 59,
      "outputs": [
        {
          "output_type": "display_data",
          "data": {
            "text/plain": [
              "<Figure size 800x800 with 1 Axes>"
            ],
            "image/png": "[encoded data removed]"
          },
          "metadata": {}
        }
      ]
    }
  ]
}